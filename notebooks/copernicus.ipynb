{
 "cells": [
  {
   "attachments": {},
   "cell_type": "markdown",
   "metadata": {},
   "source": [
    "### Dataset\n",
    "[Copernicus ER5 land](https://cds.climate.copernicus.eu/cdsapp#!/dataset/reanalysis-era5-land?tab=overview)\n",
    "### Connexion à l'api \n",
    "1. Créer un compte Copernicus : https://cds.climate.copernicus.eu/user/register?destination=%2F%23!%2Fhome\n",
    "2. Suivre le guide d'installation (https://cds.climate.copernicus.eu/api-how-to) pour créer un fichier .cdsapirc contenant les informations de connexion.\n",
    "3. Connexion à l'aide de la librairie [cdsapi](https://pypi.org/project/cdsapi/)\n",
    "### Acceptation des conditions d'utilisation\n",
    "Si cela n'a pas été depuis le site, à la première exécution, suivre le lien renvoyé par renvoyé par le connecteur pour accepter les conditions d'utilisation du dataset."
   ]
  },
  {
   "cell_type": "code",
   "execution_count": 4,
   "metadata": {},
   "outputs": [],
   "source": [
    "import cdsapi\n",
    "import netCDF4 as nc\n",
    "import numpy as np\n",
    "import datetime as dt\n",
    "import pandas as pd\n",
    "import os"
   ]
  },
  {
   "cell_type": "code",
   "execution_count": 5,
   "metadata": {},
   "outputs": [],
   "source": [
    "DATE_START = dt.datetime(1900,1,1)"
   ]
  },
  {
   "cell_type": "code",
   "execution_count": 15,
   "metadata": {},
   "outputs": [],
   "source": [
    "request = {\n",
    "        \"variable\": [\n",
    "            \"evaporation_from_bare_soil\",\n",
    "            \"evaporation_from_open_water_surfaces_excluding_oceans\",\n",
    "            \"evaporation_from_the_top_of_canopy\",\n",
    "            \"evaporation_from_vegetation_transpiration\",\n",
    "            \"potential_evaporation\",\n",
    "            \"total_evaporation\",\n",
    "            \"total_precipitation\",\n",
    "        ],\n",
    "        \"year\": \"2022\",\n",
    "        \"month\": \"01\",\n",
    "        \"day\": [\n",
    "            \"01\",\n",
    "            \"02\",\n",
    "            \"03\",\n",
    "            \"04\",\n",
    "            \"05\",\n",
    "            \"06\",\n",
    "            \"07\",\n",
    "            \"08\",\n",
    "            \"09\",\n",
    "            \"10\",\n",
    "            \"11\",\n",
    "            \"12\",\n",
    "            \"13\",\n",
    "            \"14\",\n",
    "            \"15\",\n",
    "            \"16\",\n",
    "            \"17\",\n",
    "            \"18\",\n",
    "            \"19\",\n",
    "            \"20\",\n",
    "            \"21\",\n",
    "            \"22\",\n",
    "            \"23\",\n",
    "            \"24\",\n",
    "            \"25\",\n",
    "            \"26\",\n",
    "            \"27\",\n",
    "            \"28\",\n",
    "            \"29\",\n",
    "            \"30\",\n",
    "            \"31\",\n",
    "        ],\n",
    "        \"time\": \"12:00\",\n",
    "        \"area\": [\n",
    "            52, -5, 42,\n",
    "                10,\n",
    "        ],\n",
    "        \"format\": \"netcdf\",\n",
    "    }\n",
    "target = \"../data/download.nc\"\n",
    "name = \"reanalysis-era5-land\" "
   ]
  },
  {
   "cell_type": "code",
   "execution_count": 18,
   "metadata": {},
   "outputs": [
    {
     "name": "stderr",
     "output_type": "stream",
     "text": [
      "2023-02-25 11:26:15,636 INFO Welcome to the CDS\n",
      "2023-02-25 11:26:15,637 INFO Sending request to https://cds.climate.copernicus.eu/api/v2/resources/reanalysis-era5-land\n",
      "2023-02-25 11:26:15,722 INFO Request is completed\n",
      "2023-02-25 11:26:15,723 INFO Downloading https://download-0000-clone.copernicus-climate.eu/cache-compute-0000/cache/data2/adaptor.mars.internal-1677320621.3808982-8170-6-3342fd14-f7e3-4f19-87d2-ec665fa88d8d.nc to ../data/download.nc (6.3M)\n",
      "2023-02-25 11:26:17,403 INFO Download rate 3.8M/s   \n"
     ]
    }
   ],
   "source": [
    "c = cdsapi.Client()\n",
    "if not os.path.isfile(target):\n",
    "    c.retrieve(\n",
    "        name=name,\n",
    "        request=request,\n",
    "        target=target,\n",
    "    )"
   ]
  },
  {
   "cell_type": "code",
   "execution_count": 20,
   "metadata": {},
   "outputs": [],
   "source": [
    "nc_file = nc.Dataset(target)"
   ]
  },
  {
   "cell_type": "code",
   "execution_count": 21,
   "metadata": {},
   "outputs": [
    {
     "data": {
      "text/plain": [
       "dict_keys(['longitude', 'latitude', 'time', 'evabs', 'evaow', 'evatc', 'evavt', 'pev', 'e', 'tp'])"
      ]
     },
     "execution_count": 21,
     "metadata": {},
     "output_type": "execute_result"
    }
   ],
   "source": [
    "nc_file.variables.keys()"
   ]
  },
  {
   "cell_type": "code",
   "execution_count": 22,
   "metadata": {},
   "outputs": [
    {
     "data": {
      "text/plain": [
       "<class 'netCDF4._netCDF4.Variable'>\n",
       "int32 time(time)\n",
       "    units: hours since 1900-01-01 00:00:00.0\n",
       "    long_name: time\n",
       "    calendar: gregorian\n",
       "unlimited dimensions: \n",
       "current shape = (31,)\n",
       "filling on, default _FillValue of -2147483647 used"
      ]
     },
     "execution_count": 22,
     "metadata": {},
     "output_type": "execute_result"
    }
   ],
   "source": [
    "nc_file.variables[\"time\"]"
   ]
  },
  {
   "cell_type": "code",
   "execution_count": 23,
   "metadata": {},
   "outputs": [],
   "source": [
    "lati = nc_file.variables[\"latitude\"][:].filled(np.nan)\n",
    "long = nc_file.variables[\"longitude\"][:].filled(np.nan)\n",
    "time = nc_file.variables[\"time\"][:].filled(np.nan)\n",
    "time = (pd.to_timedelta(time, unit=\"hours\")+DATE_START).date\n",
    "total_preci = nc_file.variables[\"tp\"][:].filled(np.nan)"
   ]
  },
  {
   "cell_type": "code",
   "execution_count": 24,
   "metadata": {},
   "outputs": [],
   "source": [
    "lat_3D, time_3D, long_3D = np.meshgrid(lati,time,long)"
   ]
  },
  {
   "cell_type": "code",
   "execution_count": 25,
   "metadata": {},
   "outputs": [],
   "source": [
    "date = dt.date(2022,1,1)\n",
    "good_date = np.where(time_3D[:,0,0] == date)[0][0]"
   ]
  },
  {
   "cell_type": "code",
   "execution_count": 26,
   "metadata": {},
   "outputs": [
    {
     "data": {
      "text/plain": [
       "(101, 151)"
      ]
     },
     "execution_count": 26,
     "metadata": {},
     "output_type": "execute_result"
    }
   ],
   "source": [
    "time_3D[good_date,:,:].shape"
   ]
  },
  {
   "cell_type": "code",
   "execution_count": 27,
   "metadata": {},
   "outputs": [],
   "source": [
    "df = pd.DataFrame(\n",
    "    {\n",
    "    \"lat\":lat_3D[0,:,:].ravel(),\n",
    "    \"lon\":long_3D[0,:,:].ravel(),\n",
    "    \"tp\":total_preci[0,:,:].ravel(),\n",
    "    }\n",
    ")"
   ]
  }
 ],
 "metadata": {
  "kernelspec": {
   "display_name": ".venv",
   "language": "python",
   "name": "python3"
  },
  "language_info": {
   "codemirror_mode": {
    "name": "ipython",
    "version": 3
   },
   "file_extension": ".py",
   "mimetype": "text/x-python",
   "name": "python",
   "nbconvert_exporter": "python",
   "pygments_lexer": "ipython3",
   "version": "3.11.1"
  },
  "orig_nbformat": 4,
  "vscode": {
   "interpreter": {
    "hash": "5f9a083d403d4bf491381e40f399bb2b3b99e50ea212019b3f8fd9237d27e0b4"
   }
  }
 },
 "nbformat": 4,
 "nbformat_minor": 2
}
