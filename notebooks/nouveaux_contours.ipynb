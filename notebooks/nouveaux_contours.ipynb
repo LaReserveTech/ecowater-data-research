{
 "cells": [
  {
   "cell_type": "code",
   "execution_count": null,
   "metadata": {},
   "outputs": [],
   "source": [
    "%reload_ext autoreload\n",
    "%autoreload 2\n",
    "%load_ext jupyter_black"
   ]
  },
  {
   "cell_type": "code",
   "execution_count": null,
   "metadata": {},
   "outputs": [],
   "source": [
    "import cdsapi\n",
    "import geopandas as gpd\n",
    "import pandas as pd\n",
    "import plotly.express as px\n",
    "import numpy as np\n",
    "from dotenv import load_dotenv\n",
    "from ecowater_data_research import loaders, transformers\n",
    "import datetime as dt\n",
    "\n",
    "load_dotenv()"
   ]
  },
  {
   "cell_type": "code",
   "execution_count": null,
   "metadata": {},
   "outputs": [],
   "source": [
    "var = \"total_precipitation\"\n",
    "year = 2022\n",
    "month = 1\n",
    "day = 1\n",
    "date = dt.datetime(year, month, day)\n",
    "request = {\n",
    "    \"variable\": var,\n",
    "    \"year\": year,\n",
    "    \"month\": month,\n",
    "    \"day\": day,\n",
    "    \"time\": [\n",
    "        \"00:00\",\n",
    "        \"01:00\",\n",
    "        \"02:00\",\n",
    "        \"03:00\",\n",
    "        \"04:00\",\n",
    "        \"05:00\",\n",
    "        \"06:00\",\n",
    "        \"07:00\",\n",
    "        \"08:00\",\n",
    "        \"09:00\",\n",
    "        \"10:00\",\n",
    "        \"11:00\",\n",
    "        \"12:00\",\n",
    "        \"13:00\",\n",
    "        \"14:00\",\n",
    "        \"15:00\",\n",
    "        \"16:00\",\n",
    "        \"17:00\",\n",
    "        \"18:00\",\n",
    "        \"19:00\",\n",
    "        \"20:00\",\n",
    "        \"21:00\",\n",
    "        \"22:00\",\n",
    "        \"23:00\",\n",
    "    ],\n",
    "    \"area\": [\n",
    "        52,\n",
    "        -5,\n",
    "        40,\n",
    "        10,\n",
    "    ],\n",
    "    \"format\": \"netcdf\",\n",
    "}\n",
    "target = f\"../data/copernicus/{var}_{date.strftime('%Y%m%d')}.nc\"\n",
    "name = \"reanalysis-era5-land\""
   ]
  },
  {
   "cell_type": "code",
   "execution_count": null,
   "metadata": {},
   "outputs": [],
   "source": [
    "c = cdsapi.Client()\n",
    "c.retrieve(\n",
    "    name=name,\n",
    "    request=request,\n",
    "    target=target,\n",
    ")"
   ]
  },
  {
   "cell_type": "code",
   "execution_count": null,
   "metadata": {},
   "outputs": [],
   "source": [
    "df = loaders.load_from_cds(target)\n",
    "gdf = transformers.transform_to_gdf(df)\n",
    "gdf = gdf[~gdf[\"tp\"].isna()]"
   ]
  },
  {
   "cell_type": "code",
   "execution_count": null,
   "metadata": {},
   "outputs": [],
   "source": [
    "gdf = gdf\n",
    "with open(\"../data/mapping/contours_lambert_93.json\") as file:\n",
    "    regions_table = gpd.read_file(file)\n",
    "    regions_table[\"geometry\"].crs = \"EPSG:2154\"\n",
    "    regions_table[\"geometry\"] = regions_table[\"geometry\"].to_crs(epsg=4326)\n",
    "    regions_table: gpd.GeoDataFrame = regions_table[regions_table[\"geometry\"].is_valid]\n",
    "    result = None\n",
    "    for i, row in regions_table.iterrows():\n",
    "        print(i / regions_table.reset_index().shape[0], end=\"\\r\")\n",
    "        gdf_in = gdf.geometry.within(row.geometry)\n",
    "        if not gdf_in.any():\n",
    "            continue\n",
    "        is_in = gdf_in.values\n",
    "        gdf_in[is_in] = row.id\n",
    "        gdf_in[~is_in] = np.nan\n",
    "        if result is None:\n",
    "            result = gdf_in\n",
    "        else:\n",
    "            result[result.isna()] = gdf_in[result.isna()]\n",
    "    result.name = \"id\"\n",
    "    concat = pd.concat([gdf, result], axis=1)\n",
    "    concat = concat[~concat.id.isna()]\n",
    "    transformed_gdf = (\n",
    "        concat[[\"id\", \"time\", \"tp\"]].groupby([\"id\", \"time\"]).sum().reset_index()\n",
    "    )\n",
    "    df = pd.merge(transformed_gdf, regions_table, on=\"id\")\n",
    "    df = df.set_index(\"id\")\n",
    "    del regions_table\n",
    "    del result\n",
    "    del transformed_gdf"
   ]
  },
  {
   "cell_type": "code",
   "execution_count": null,
   "metadata": {},
   "outputs": [],
   "source": [
    "fig = px.choropleth(\n",
    "    df,\n",
    "    geojson=gpd.GeoSeries(df.geometry),\n",
    "    locations=df.index,\n",
    "    color=\"tp\",\n",
    "    color_continuous_scale=\"Inferno\",\n",
    ")\n",
    "fig.update_geos(fitbounds=\"locations\", visible=False)"
   ]
  },
  {
   "cell_type": "code",
   "execution_count": null,
   "metadata": {},
   "outputs": [],
   "source": [
    "fig"
   ]
  },
  {
   "cell_type": "code",
   "execution_count": null,
   "metadata": {},
   "outputs": [],
   "source": []
  }
 ],
 "metadata": {
  "kernelspec": {
   "display_name": ".venv",
   "language": "python",
   "name": "python3"
  },
  "language_info": {
   "codemirror_mode": {
    "name": "ipython",
    "version": 3
   },
   "file_extension": ".py",
   "mimetype": "text/x-python",
   "name": "python",
   "nbconvert_exporter": "python",
   "pygments_lexer": "ipython3",
   "version": "3.11.1"
  },
  "orig_nbformat": 4
 },
 "nbformat": 4,
 "nbformat_minor": 2
}
